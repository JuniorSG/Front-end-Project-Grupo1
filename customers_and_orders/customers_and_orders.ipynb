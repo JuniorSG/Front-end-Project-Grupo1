{
  "cells": [
    {
      "cell_type": "markdown",
      "metadata": {
        "id": "view-in-github",
        "colab_type": "text"
      },
      "source": [
        "<a href=\"https://colab.research.google.com/github/JuniorSG/Front-end-Project-Grupo1/blob/main/customers_and_orders/customers_and_orders.ipynb\" target=\"_parent\"><img src=\"https://colab.research.google.com/assets/colab-badge.svg\" alt=\"Open In Colab\"/></a>"
      ]
    },
    {
      "cell_type": "markdown",
      "metadata": {
        "id": "piiX_CRNFYUi"
      },
      "source": [
        "# Technical Challenge ! Custiomers and Orders - The lifeblood of any business!\n",
        "\n",
        "This notebook depends on two data files: customers.scv and orders.csv. These files are hosted in the cloud (or Github), so for simplicity, we are providing you with the code to download and save the two files in a folder called 'sample_data' which lives within this notebook session (not on your local computer nor Google Drive).\n",
        "\n",
        "![sample_data folder in notebook session](https://raw.githubusercontent.com/anyoneai/notebooks/main/customers_and_orders/images/sample_data_folder.png)\n",
        "\n",
        "Please execute the first code snippet before moving to the rest of the exercise as this code will import the data from the files for you to be able to execute the rest of the exercise.\n",
        "\n",
        "Remember as we said in the previous lecture, you have to save this notebook into your Google Drive by going to menu File/Save a Copy In Drive, or clicking in the button \"Copy to Drive\". This way, you will not lose any work you've done and the file will persist with your latest changes in your Google Drive. Also we recommend you to rename your .ipynb in your Google Drive, so you can easily find it in the future."
      ]
    },
    {
      "cell_type": "code",
      "execution_count": null,
      "metadata": {
        "colab": {
          "base_uri": "https://localhost:8080/"
        },
        "id": "MWpVO242FQHC",
        "outputId": "b515a5a0-61e7-47fe-85ff-875b934f9813"
      },
      "outputs": [
        {
          "name": "stdout",
          "output_type": "stream",
          "text": [
            "Customers and orders CSV files have been added './sample_data'\n"
          ]
        }
      ],
      "source": [
        "import requests\n",
        "\n",
        "def import_data_files():\n",
        "  r = requests.get('https://raw.githubusercontent.com/anyoneai/notebooks/main/customers_and_orders/data/customers.csv')\n",
        "  with open('./sample_data/customers.csv', 'wb') as f:\n",
        "    f.write(r.content)\n",
        "\n",
        "  r = requests.get('https://raw.githubusercontent.com/anyoneai/notebooks/main/customers_and_orders/data/orders.csv')\n",
        "  with open('./sample_data/orders.csv', 'wb') as f:\n",
        "    f.write(r.content)\n",
        "\n",
        "import_data_files()\n",
        "print(\"Customers and orders CSV files have been added './sample_data'\")"
      ]
    },
    {
      "cell_type": "markdown",
      "metadata": {
        "id": "JQAduY-RWKyB"
      },
      "source": [
        "# Exercise 1: Processing Customers data (difficulty medium)\n",
        "\n",
        "The sample customer data in 'customers.csv' file has just 5 columns: CustomerId, First Name, Last Name, City and State\n",
        "\n",
        "![Data sample](https://raw.githubusercontent.com/anyoneai/notebooks/main/customers_and_orders/images/customers.png)\n",
        "\n",
        "We strongly recommend that you complete from the [Prep Course: Intro to Python](https://colab.research.google.com/github/anyoneai/notebooks/blob/main/python3_crash_course.ipynb) the following section:\n",
        "- Section 7: File I/O (to understand how to read CSV file)\n",
        "- Section 6: For Loop (to navigate the contents of the CSV file)\n",
        "- Section 5: Tuples, Lists, and Dictionaries (to manipulate the data of the CSV file)\n",
        "\n",
        "With this, we hope you can complete this exercise successfully. Although if you want to solve this with libraries or any other way, you are welcome to do it your way.\n",
        "\n",
        "*Hint:* We advise you to take a look at the data before you start.\n",
        "**if you want to manually take a look at the data before you start, please see the content of the data [here](https://github.com/anyoneai/notebooks/blob/main/customers_and_orders/data/customers.csv).\n",
        "\n",
        "*Hint*: There are many ways to do this exercise you can do your own, although here's some help. You can solve this exercise reading and parsing CSV files, structuring data into dictionaries, and using for loops to navigate the contents\n",
        "\n",
        "*Hint*: Also, keep in mind that data might not be clean and you might have to figure out how to deal with that data from the code, without having to modify the data source.\n",
        "\n",
        "Below are the 5 questions you'll have to answer to pass the evaluation:"
      ]
    },
    {
      "cell_type": "markdown",
      "metadata": {
        "id": "kJq7S8sBfbOW"
      },
      "source": [
        "**Question 1:** How many customers are in the file?\n",
        "(as help, we have added some comments and starter code to help you structure the solution)"
      ]
    },
    {
      "cell_type": "code",
      "execution_count": 16,
      "metadata": {
        "colab": {
          "base_uri": "https://localhost:8080/"
        },
        "id": "oMnUFBFb2RUb",
        "outputId": "95760f2c-3650-4603-bc2e-01b1b6ec7138"
      },
      "outputs": [
        {
          "output_type": "stream",
          "name": "stdout",
          "text": [
            "There are 602 customers in the file.\n"
          ]
        }
      ],
      "source": [
        "# ------------------------------------------------------------------Question 1: How many customers are in the file?--------------------------------------------------------------------\n",
        "\n",
        "\n",
        "from os.path import exists\n",
        "import csv\n",
        "\n",
        "# Check\n",
        "datafile = \"./sample_data/customers.csv\"\n",
        "if not exists(datafile):\n",
        "    raise SystemExit(\"The file 'customers.csv' cannot be found. Please make sure it is in the 'sample_data' folder.\")\n",
        "\n",
        "# Counter\n",
        "customer_count = 0\n",
        "\n",
        "# CSV\n",
        "with open(datafile, 'r') as fl:\n",
        "    csvreader = csv.reader(fl, delimiter=',')\n",
        "\n",
        "    # Header\n",
        "    header = next(csvreader, None)\n",
        "\n",
        "    # iteration\n",
        "    for _ in csvreader:\n",
        "        customer_count += 1\n",
        "\n",
        "# Answer\n",
        "print(f\"There are {customer_count} customers in the file.\")"
      ]
    },
    {
      "cell_type": "markdown",
      "metadata": {
        "id": "uffBnNgz_570"
      },
      "source": [
        "**Question 2:** In how many different states do the customers live in?"
      ]
    },
    {
      "cell_type": "code",
      "execution_count": 17,
      "metadata": {
        "id": "Bi_yid0sMe3-",
        "outputId": "2e22befe-73d2-41b3-9231-bb673cb4179c",
        "colab": {
          "base_uri": "https://localhost:8080/"
        }
      },
      "outputs": [
        {
          "output_type": "stream",
          "name": "stdout",
          "text": [
            "Customers live in 15 different states.\n"
          ]
        }
      ],
      "source": [
        "# ------------------------------------------------------Question 2: In how many different states do the customers live in?-------------------------------------------------------------\n",
        "\n",
        "\n",
        "from os.path import exists\n",
        "import csv\n",
        "\n",
        "# Check\n",
        "datafile = \"./sample_data/customers.csv\"\n",
        "if not exists(datafile):\n",
        "    raise SystemExit(\"The file 'customers.csv' cannot be found. Please make sure it is in the 'sample_data' folder.\")\n",
        "\n",
        "# Counter\n",
        "states = set()\n",
        "\n",
        "# CSV\n",
        "with open(datafile, 'r') as fl:\n",
        "    csvreader = csv.reader(fl, delimiter=',')  # Use ',' as the delimiter\n",
        "\n",
        "    # Header\n",
        "    header = next(csvreader, None)\n",
        "\n",
        "    # Target\n",
        "    state_column = \"State\"\n",
        "    if state_column not in header:\n",
        "        raise SystemExit(f\"The column '{state_column}' is missing from the file.\")\n",
        "\n",
        "    # Column index\n",
        "    state_index = header.index(state_column)\n",
        "\n",
        "    # iteration\n",
        "    for row in csvreader:\n",
        "        state = row[state_index].strip()  # Cleaning empty spaces\n",
        "        states.add(state)  # Add state\n",
        "\n",
        "# Answer\n",
        "print(f\"Customers live in {len(states)} different states.\")"
      ]
    },
    {
      "cell_type": "markdown",
      "metadata": {
        "id": "DC59SZYiMfNY"
      },
      "source": [
        "**Question 3** What is the state with most customers?"
      ]
    },
    {
      "cell_type": "code",
      "execution_count": 18,
      "metadata": {
        "id": "tfGU3w-OMhA9",
        "outputId": "52a1e02d-8fc1-4b72-ead9-4abbc4452be6",
        "colab": {
          "base_uri": "https://localhost:8080/"
        }
      },
      "outputs": [
        {
          "output_type": "stream",
          "name": "stdout",
          "text": [
            "The state with most customers is 'CA' with 567.\n"
          ]
        }
      ],
      "source": [
        "# -----------------------------------------------------------------Question 3: What is the state with most customers?--------------------------------------------------------------------\n",
        "\n",
        "from os.path import exists\n",
        "import csv\n",
        "from collections import Counter\n",
        "\n",
        "# Check\n",
        "datafile = \"./sample_data/customers.csv\"\n",
        "if not exists(datafile):\n",
        "    raise SystemExit(\"You should run the first code cell and download the dataset files!\")\n",
        "\n",
        "# Counter\n",
        "state_counts = Counter()\n",
        "\n",
        "# CSV\n",
        "with open(datafile, 'r') as fl:\n",
        "    csvreader = csv.reader(fl, delimiter=',')\n",
        "\n",
        "    # Header\n",
        "    header = next(csvreader)\n",
        "\n",
        "    # Target\n",
        "    state_column = 'State'\n",
        "    if state_column not in header:\n",
        "        raise SystemExit(f\"{state_column} doesn't exist.\")\n",
        "\n",
        "    # Column index\n",
        "    state_index = header.index(state_column)\n",
        "\n",
        "    # iteration\n",
        "    for row in csvreader:\n",
        "        state = row[state_index].strip()  # Cleaning empty spaces\n",
        "        state_counts[state] += 1  # +Counter\n",
        "\n",
        "# Answer\n",
        "most_customers_state = state_counts.most_common(1)[0]\n",
        "\n",
        "print(f\"The state with most customers is '{most_customers_state[0]}' with {most_customers_state[1]}.\")"
      ]
    },
    {
      "cell_type": "markdown",
      "metadata": {
        "id": "7mcM6cUAMhLB"
      },
      "source": [
        "**Question 4** What is the state with the least customers?"
      ]
    },
    {
      "cell_type": "code",
      "execution_count": 19,
      "metadata": {
        "id": "8T0Ka2RqMi3P",
        "outputId": "6df355f5-02da-49fc-eb94-bfe3394a25c8",
        "colab": {
          "base_uri": "https://localhost:8080/"
        }
      },
      "outputs": [
        {
          "output_type": "stream",
          "name": "stdout",
          "text": [
            "The state(s) with the least customers (1 customer(s)):\n",
            " - WA\n",
            " - NH\n",
            " - ID\n",
            " - OR\n",
            " - MA\n",
            " - IN\n"
          ]
        }
      ],
      "source": [
        "# --------------------------------------------------------------Question 4: What is the state with the least customers?------------------------------------------------------------------\n",
        "\n",
        "from os.path import exists\n",
        "import csv\n",
        "from collections import Counter\n",
        "\n",
        "# Check\n",
        "datafile = \"./sample_data/customers.csv\"\n",
        "if not exists(datafile):\n",
        "    raise SystemExit(\"The file 'customers.csv' cannot be found. Please make sure it is in the 'sample_data' folder.\")\n",
        "\n",
        "# Counter\n",
        "state_counts = Counter()\n",
        "\n",
        "# CSV\n",
        "with open(datafile, 'r') as fl:\n",
        "    csvreader = csv.reader(fl, delimiter=',')\n",
        "\n",
        "\n",
        "    # Header\n",
        "    header = next(csvreader, None)\n",
        "\n",
        "    # Target\n",
        "    state_column = \"State\"\n",
        "    if state_column not in header:\n",
        "        raise SystemExit(f\"The column '{state_column}' is missing from the file.\")\n",
        "\n",
        "    state_index = header.index(state_column)\n",
        "\n",
        "    # Iteration\n",
        "    for row in csvreader:\n",
        "        state = row[state_index].strip()  # Cleaning empty spaces\n",
        "        state_counts[state] += 1  # +Counter\n",
        "\n",
        "# Least Costumers\n",
        "min_count = min(state_counts.values())\n",
        "least_customer_states = [state for state, count in state_counts.items() if count == min_count]\n",
        "\n",
        "# Answer\n",
        "print(f\"The state(s) with the least customers ({min_count} customer(s)):\")\n",
        "for state in least_customer_states:\n",
        "    print(f\" - {state}\")\n"
      ]
    },
    {
      "cell_type": "markdown",
      "metadata": {
        "id": "h6fIy7hXHF6A"
      },
      "source": [
        "**Question 5:** What is the most common last name?"
      ]
    },
    {
      "cell_type": "code",
      "execution_count": 21,
      "metadata": {
        "id": "k8M1DmA75Km7",
        "outputId": "654444ea-d0c1-42d6-f91a-3e428f723e93",
        "colab": {
          "base_uri": "https://localhost:8080/"
        }
      },
      "outputs": [
        {
          "output_type": "stream",
          "name": "stdout",
          "text": [
            "The most common last name(s) (8 occurrence(s)):\n",
            " - Smith\n"
          ]
        }
      ],
      "source": [
        "# -----------------------------------------------------------------------Question 5: What is the most common last name?----------------------------------------------------------------------------------\n",
        "\n",
        "from os.path import exists\n",
        "import csv\n",
        "from collections import Counter\n",
        "\n",
        "# Check\n",
        "datafile = \"./sample_data/customers.csv\"\n",
        "if not exists(datafile):\n",
        "    raise SystemExit(\"The file 'customers.csv' cannot be found. Please make sure it is in the 'customers' folder.\")\n",
        "\n",
        "# Counter\n",
        "last_name_counts = Counter()\n",
        "\n",
        "# CSV\n",
        "with open(datafile, 'r') as fl:\n",
        "    csvreader = csv.reader(fl, delimiter=',')\n",
        "\n",
        "    # Header\n",
        "    header = next(csvreader, None)\n",
        "\n",
        "    # Target\n",
        "    last_name_column = \"LastName\"\n",
        "    if last_name_column not in header:\n",
        "        raise SystemExit(f\"The column '{last_name_column}' is missing from the file.\")\n",
        "\n",
        "    last_name_index = header.index(last_name_column)\n",
        "\n",
        "    # Iteration\n",
        "    for row in csvreader:\n",
        "        last_name = row[last_name_index].strip()  # Cleaning empty spaces\n",
        "        last_name_counts[last_name] += 1  # +Counter\n",
        "\n",
        "# Most common last names\n",
        "max_count = max(last_name_counts.values())\n",
        "most_common_last_names = [name for name, count in last_name_counts.items() if count == max_count]\n",
        "\n",
        "# Answer\n",
        "print(f\"The most common last name(s) ({max_count} occurrence(s)):\")\n",
        "for name in most_common_last_names:\n",
        "    print(f\" - {name}\")\n"
      ]
    },
    {
      "cell_type": "markdown",
      "metadata": {
        "id": "YPRma1t9NoFk"
      },
      "source": [
        "# Exercise 2: Processing Orders data (difficulty high)\n",
        "\n",
        "The second sample files contains orders placed by customers from the first file. Be careful, this file has many rows and you most likely should not print the contents of the whole file.\n",
        "\n",
        "The file contains the following columns: CustomerID, OrderID, Date, OrderTotal, ProductName, Price\n",
        "\n",
        "![Data sample](https://raw.githubusercontent.com/anyoneai/notebooks/main/customers_and_orders/images/orders.png)\n",
        "\n",
        "*Hint:* We advise you to take a look at the data before you start.\n",
        "**if you want to manually take a look at the data before you start, please see the content of the data [here](https://raw.githubusercontent.com/anyoneai/notebooks/main/customers_and_orders/data/orders.csv).\n",
        "\n",
        "*Hint*: There are many ways to do this exercise you can do your own, although here's some help. You can solve this exercise reading and parsing CSV files, structuring data into dictionaries, and using for loops to navigate the contents\n",
        "\n",
        "*Hint*: Also, the data is not clean and you will have to figure out how to deal with that data from the code, without having to modify the data source.\n",
        "\n",
        "\n",
        "\n",
        "**Question #1:** How many unique orders are in the orders.csv file?\n",
        "\n",
        "**Question #2:** What is the average number of items per order (rounded to two decimal places)?\n",
        "\n",
        "**Question #3:** What is the highest number of items per order?\n",
        "\n",
        "**Question #4:** What is the number of orders placed in October 2021?\n",
        "\n",
        "**Question #5:** Which customer spent the most amount of money in 2021?\n",
        "\n",
        "**Question #6:** Historically, what is the best month for sales?\n",
        "\n",
        "Once you get your answers, remember to go back to the course and introduce them in the multiple choice quiz"
      ]
    },
    {
      "cell_type": "code",
      "execution_count": 23,
      "metadata": {
        "id": "8ipJTrfs5QVM",
        "outputId": "cf50712c-14b5-42d0-e405-6b459d4f8e0e",
        "colab": {
          "base_uri": "https://localhost:8080/"
        }
      },
      "outputs": [
        {
          "output_type": "stream",
          "name": "stdout",
          "text": [
            "Question #1: There are 16672 unique orders.\n",
            "Question #2: The average number of items per order is 167.89.\n",
            "Question #3: The highest number of items per order is 3600.\n",
            "Question #4: The number of orders placed in October 2021 is 437.\n",
            "Question #5: The customer who spent the most money in 2021 is CustomerID '5464' with $1862550.00.\n",
            "Question #6: The best month for sales is 2022-01 with total sales of $172032.00.\n"
          ]
        }
      ],
      "source": [
        "from os.path import exists\n",
        "import csv\n",
        "from collections import Counter, defaultdict\n",
        "from datetime import datetime\n",
        "\n",
        "# Check\n",
        "datafile = \"./sample_data/orders.csv\"\n",
        "if not exists(datafile):\n",
        "    raise SystemExit(\"The file 'orders.csv' cannot be found. Please make sure it is in the 'orders' folder.\")\n",
        "\n",
        "# Variables\n",
        "unique_orders = set()\n",
        "items_per_order = Counter()\n",
        "orders_in_oct_2021 = 0\n",
        "customer_spending = defaultdict(float)\n",
        "sales_per_month = Counter()\n",
        "\n",
        "# CSV\n",
        "with open(datafile, 'r') as fl:\n",
        "    csvreader = csv.reader(fl, delimiter=',')\n",
        "\n",
        "    # Header\n",
        "    header = next(csvreader, None)\n",
        "\n",
        "    # Target\n",
        "    required_columns = [\"OrderID\", \"CustomerID\", \"Date\", \"OrderTotal\", \"ProductName\", \"Price\"]\n",
        "    for column in required_columns:\n",
        "        if column not in header:\n",
        "            raise SystemExit(f\"The column '{column}' is missing from the file.\")\n",
        "\n",
        "    # Index\n",
        "    order_id_index = header.index(\"OrderID\")\n",
        "    customer_id_index = header.index(\"CustomerID\")\n",
        "    order_date_index = header.index(\"Date\")\n",
        "    order_total_amount_index = header.index(\"OrderTotal\")\n",
        "    product_name_index = header.index(\"ProductName\")\n",
        "    price_index = header.index(\"Price\")\n",
        "\n",
        "    # Iteration\n",
        "    for row in csvreader:\n",
        "        order_id = row[order_id_index].strip()\n",
        "        customer_id = row[customer_id_index].strip()\n",
        "        order_date_str = row[order_date_index].strip()\n",
        "        order_total = float(row[order_total_amount_index].strip())\n",
        "        product_name = row[product_name_index].strip()\n",
        "        items_str = row[price_index].strip()\n",
        "\n",
        "        try:\n",
        "            items = int(float(items_str))\n",
        "        except ValueError:\n",
        "            print(f\"Error converting '{items_str}' to integer. Skipping this row.\")\n",
        "            continue  # Skip\n",
        "\n",
        "        # Add the order for Question #1.\n",
        "        unique_orders.add(order_id)\n",
        "\n",
        "        # Track items per order for Question #2 y Question #3.\n",
        "        items_per_order[order_id] += items\n",
        "\n",
        "        try:\n",
        "            order_date = datetime.strptime(order_date_str, \"%Y-%m-%d %H:%M:%S.%f\").strftime(\"%Y-%m\")\n",
        "        except ValueError as e:\n",
        "            continue  # Skip\n",
        "\n",
        "        # Orders placed in Oct 2021 for Question #4.\n",
        "        if order_date == \"2021-10\":\n",
        "            orders_in_oct_2021 += 1\n",
        "\n",
        "        # Track total spending for Question #5.\n",
        "        customer_spending[customer_id] += order_total\n",
        "\n",
        "        # Track total spending for Question #6.\n",
        "        sales_per_month[order_date] += order_total\n",
        "\n",
        "# Answers to the questions\n",
        "# Question #1: How many unique orders are in the file?\n",
        "print(f\"Question #1: There are {len(unique_orders)} unique orders.\")\n",
        "\n",
        "# Question #2: What is the average number of items per order?\n",
        "average_items_per_order = sum(items_per_order.values()) / len(unique_orders)\n",
        "print(f\"Question #2: The average number of items per order is {average_items_per_order:.2f}.\")\n",
        "\n",
        "# Question #3: What is the highest number of items per order?\n",
        "max_items_per_order = max(items_per_order.values())\n",
        "print(f\"Question #3: The highest number of items per order is {max_items_per_order}.\")\n",
        "\n",
        "# Question #4: What is the number of orders placed in October 2021?\n",
        "print(f\"Question #4: The number of orders placed in October 2021 is {orders_in_oct_2021}.\")\n",
        "\n",
        "# Question #5: Which customer spent the most money in 2021?\n",
        "top_customer = max(customer_spending.items(), key=lambda x: x[1])\n",
        "print(f\"Question #5: The customer who spent the most money in 2021 is CustomerID '{top_customer[0]}' with ${top_customer[1]:.2f}.\")\n",
        "\n",
        "# Question #6: Historically, what is the best month for sales?\n",
        "best_month, highest_sales = max(sales_per_month.items(), key=lambda x: x[1])\n",
        "print(f\"Question #6: The best month for sales is {best_month} with total sales of ${highest_sales:.2f}.\")\n"
      ]
    },
    {
      "cell_type": "markdown",
      "metadata": {
        "id": "ie0JW4FAk6Os"
      },
      "source": [
        "# Finished!\n",
        "\n",
        "Hope this was not too difficult and slicing and dicing the datasets was some fun. Now head on back to the course and provide the answers to the questions from this exercise."
      ]
    }
  ],
  "metadata": {
    "colab": {
      "name": "customers_and_orders.ipynb",
      "provenance": [],
      "include_colab_link": true
    },
    "kernelspec": {
      "display_name": "Python 3 (ipykernel)",
      "language": "python",
      "name": "python3"
    },
    "language_info": {
      "codemirror_mode": {
        "name": "ipython",
        "version": 3
      },
      "file_extension": ".py",
      "mimetype": "text/x-python",
      "name": "python",
      "nbconvert_exporter": "python",
      "pygments_lexer": "ipython3",
      "version": "3.9.9"
    }
  },
  "nbformat": 4,
  "nbformat_minor": 0
}